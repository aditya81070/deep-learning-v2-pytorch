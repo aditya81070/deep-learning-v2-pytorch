{
 "cells": [
  {
   "cell_type": "markdown",
   "metadata": {},
   "source": [
    "# Neural networks with PyTorch\n",
    "\n",
    "Deep learning networks tend to be massive with dozens or hundreds of layers, that's where the term \"deep\" comes from. You can build one of these deep networks using only weight matrices as we did in the previous notebook, but in general it's very cumbersome and difficult to implement. PyTorch has a nice module `nn` that provides a nice way to efficiently build large neural networks."
   ]
  },
  {
   "cell_type": "code",
   "execution_count": 16,
   "metadata": {},
   "outputs": [],
   "source": [
    "# Import necessary packages\n",
    "\n",
    "%matplotlib inline\n",
    "%config InlineBackend.figure_format = 'retina'\n",
    "\n",
    "import numpy as np\n",
    "import torch\n",
    "\n",
    "import helper\n",
    "\n",
    "import matplotlib.pyplot as plt"
   ]
  },
  {
   "cell_type": "markdown",
   "metadata": {},
   "source": [
    "\n",
    "Now we're going to build a larger network that can solve a (formerly) difficult problem, identifying text in an image. Here we'll use the MNIST dataset which consists of greyscale handwritten digits. Each image is 28x28 pixels, you can see a sample below\n",
    "\n",
    "<img src='assets/mnist.png'>\n",
    "\n",
    "Our goal is to build a neural network that can take one of these images and predict the digit in the image.\n",
    "\n",
    "First up, we need to get our dataset. This is provided through the `torchvision` package. The code below will download the MNIST dataset, then create training and test datasets for us. Don't worry too much about the details here, you'll learn more about this later."
   ]
  },
  {
   "cell_type": "code",
   "execution_count": 17,
   "metadata": {},
   "outputs": [],
   "source": [
    "### Run this cell\n",
    "\n",
    "from torchvision import datasets, transforms\n",
    "\n",
    "# Define a transform to normalize the data\n",
    "transform = transforms.Compose([transforms.ToTensor(),\n",
    "                              transforms.Normalize((0.5,), (0.5,)),\n",
    "                              ])\n",
    "\n",
    "# Download and load the training data\n",
    "trainset = datasets.MNIST('~/.pytorch/MNIST_data/', download=True, train=True, transform=transform)\n",
    "trainloader = torch.utils.data.DataLoader(trainset, batch_size=64, shuffle=True)"
   ]
  },
  {
   "cell_type": "markdown",
   "metadata": {},
   "source": [
    "We have the training data loaded into `trainloader` and we make that an iterator with `iter(trainloader)`. Later, we'll use this to loop through the dataset for training, like\n",
    "\n",
    "```python\n",
    "for image, label in trainloader:\n",
    "    ## do things with images and labels\n",
    "```\n",
    "\n",
    "You'll notice I created the `trainloader` with a batch size of 64, and `shuffle=True`. The batch size is the number of images we get in one iteration from the data loader and pass through our network, often called a *batch*. And `shuffle=True` tells it to shuffle the dataset every time we start going through the data loader again. But here I'm just grabbing the first batch so we can check out the data. We can see below that `images` is just a tensor with size `(64, 1, 28, 28)`. So, 64 images per batch, 1 color channel, and 28x28 images."
   ]
  },
  {
   "cell_type": "code",
   "execution_count": 18,
   "metadata": {},
   "outputs": [
    {
     "name": "stdout",
     "output_type": "stream",
     "text": [
      "<class 'torch.Tensor'>\n",
      "torch.Size([64, 1, 28, 28])\n",
      "torch.Size([64])\n"
     ]
    }
   ],
   "source": [
    "dataiter = iter(trainloader)\n",
    "images, labels = dataiter.next()\n",
    "print(type(images))\n",
    "print(images.shape)\n",
    "print(labels.shape)"
   ]
  },
  {
   "cell_type": "markdown",
   "metadata": {},
   "source": [
    "This is what one of the images looks like. "
   ]
  },
  {
   "cell_type": "code",
   "execution_count": 5,
   "metadata": {},
   "outputs": [
    {
     "data": {
      "image/png": "[encoded data removed]",
      "text/plain": [
       "<Figure size 432x288 with 1 Axes>"
      ]
     },
     "metadata": {
      "image/png": {
       "height": 250,
       "width": 253
      },
      "needs_background": "light"
     },
     "output_type": "display_data"
    }
   ],
   "source": [
    "plt.imshow(images[1].numpy().squeeze(), cmap='Greys_r');"
   ]
  },
  {
   "cell_type": "markdown",
   "metadata": {},
   "source": [
    "First, let's try to build a simple network for this dataset using weight matrices and matrix multiplications. Then, we'll see how to do it using PyTorch's `nn` module which provides a much more convenient and powerful method for defining network architectures.\n",
    "\n",
    "The networks you've seen so far are called *fully-connected* or *dense* networks. Each unit in one layer is connected to each unit in the next layer. In fully-connected networks, the input to each layer must be a one-dimensional vector (which can be stacked into a 2D tensor as a batch of multiple examples). However, our images are 28x28 2D tensors, so we need to convert them into 1D vectors. Thinking about sizes, we need to convert the batch of images with shape `(64, 1, 28, 28)` to a have a shape of `(64, 784)`, 784 is 28 times 28. This is typically called *flattening*, we flattened the 2D images into 1D vectors.\n",
    "\n",
    "Previously you built a network with one output unit. Here we need 10 output units, one for each digit. We want our network to predict the digit shown in an image, so what we'll do is calculate probabilities that the image is of any one digit or class. This ends up being a discrete probability distribution over the classes (digits) that tells us the most likely class for the image. That means we need 10 output units for the 10 classes (digits). We'll see how to convert the network output into a probability distribution next.\n",
    "\n",
    "> **Exercise:** Flatten the batch of images `images`. Then build a multi-layer network with 784 input units, 256 hidden units, and 10 output units using random tensors for the weights and biases. For now, use a sigmoid activation for the hidden layer. Leave the output layer without an activation, we'll add one that gives us a probability distribution next."
   ]
  },
  {
   "cell_type": "code",
   "execution_count": 21,
   "metadata": {},
   "outputs": [
    {
     "data": {
      "text/plain": [
       "tensor([[-11.7716,  -8.0199,  -2.6075,  -2.4191,   0.8539,   2.8301, -12.4635,\n",
       "          11.9959,  -5.0048,  -1.7931],\n",
       "        [-16.4914,  -0.5758, -14.0881,   4.8960,  20.0941,  12.3336, -11.9651,\n",
       "          -1.2225,  -7.0507, -12.9001],\n",
       "        [-11.3447,   6.8265,  -1.2667,   5.7937,   4.3414,  -0.2636,  -7.4822,\n",
       "          12.5632,  -5.6855, -17.1869],\n",
       "        [ -9.6052,   4.0386,  -9.0435,  -1.1100,  16.0437,   2.4083, -11.0533,\n",
       "           2.6466,  -8.9364, -11.6612],\n",
       "        [  5.4930,   0.0507,  -4.2665,   2.2566,  13.1786,  15.0576, -11.0408,\n",
       "           1.0142,  -6.7576,  -8.9257],\n",
       "        [-14.6294,  -8.7253,  -2.1186,  -1.6060,   4.4380,  -1.6538, -11.4146,\n",
       "           7.9474,  -7.9656, -12.3711],\n",
       "        [ -4.0820,   1.6289,  -5.0955,   1.7723,   7.4236,   1.2974,   0.5888,\n",
       "           5.4661,  -5.0642,  -8.6376],\n",
       "        [  4.1617,   6.8416, -10.8911,   1.9336,  13.5265,  -4.8724,  -6.0537,\n",
       "          -1.3015,  -4.5707, -18.1894],\n",
       "        [  7.5993,  -5.8017,  -5.2198,  -0.9295,  14.5952,  -1.9276, -16.7783,\n",
       "           3.7502,  -5.1056,  -8.6271],\n",
       "        [-13.9660,  -1.6896,  -8.6842,  -2.8654,  15.1625,   2.3972, -20.0563,\n",
       "          -1.5556,  -3.2077, -14.0400],\n",
       "        [ -4.0846,  -3.7966, -14.1705,   6.9437,   7.1125, -15.0985,  -9.7377,\n",
       "           4.1719,  -7.4203, -20.1481],\n",
       "        [ -7.2330,  -4.7941, -11.0940,  -1.5704,  10.2402,  -5.8631, -13.7922,\n",
       "          13.1803,   0.5981,  -6.9088],\n",
       "        [ -5.9724,   3.2106,  -9.2931,   6.2949,  10.2963,   0.1932, -16.2243,\n",
       "           7.4301,  -6.5364, -17.5857],\n",
       "        [ -5.5860,  -8.1665,  -4.9885,  14.0903,   7.3512,   2.9946,  -6.4225,\n",
       "           8.6760, -12.5803,  -5.5669],\n",
       "        [ -7.1362, -12.8613, -16.1258,  -2.5954,  15.5788,  -8.3509, -17.0961,\n",
       "          -1.3970,  -1.4142, -27.2296],\n",
       "        [-19.4256,   7.6409,  -4.3478,  10.3549,   6.4007,  -3.4850,  -8.4936,\n",
       "          10.9245,  -7.8990,  -5.7091],\n",
       "        [ -5.3610,  -4.0050, -11.1429,   5.2546,   5.3070,   6.4856, -10.8842,\n",
       "          -5.4532,  -3.3840,  -2.5873],\n",
       "        [ -1.0543,  -2.9991,  -2.2566,  -6.4849,  10.2628,   1.6690, -11.6739,\n",
       "           7.4722,  -4.1441, -18.7160],\n",
       "        [-13.1708,  -7.5269,  -4.8959,   9.4538,   6.2044,   0.7833,  -7.8742,\n",
       "           2.5428,  -9.4630, -13.6092],\n",
       "        [ -4.8601,  -5.0259,  -8.2127,   3.1821,   9.8917,   0.5912,  -3.9284,\n",
       "          -0.2541,  -9.6691,  -1.5669],\n",
       "        [ -7.6392, -16.1887, -16.7874,  -3.7105,  15.2090,  -8.9375, -10.4327,\n",
       "           1.4798,   4.0231, -22.0187],\n",
       "        [ -8.0417, -10.8995,  -6.0639,   2.3191,  22.9136,   2.8151, -12.3343,\n",
       "           3.7054, -11.2173, -18.8067],\n",
       "        [ -7.0152,  -3.2392,  -8.4856,   4.6360,  16.3889,   1.2549, -11.2854,\n",
       "          -3.4372,  -9.8978, -12.7725],\n",
       "        [ -5.0076,  -6.0136,  -6.2267,   1.0061,   5.3113, -13.5462, -15.9173,\n",
       "           2.7850, -12.4722,  -7.6400],\n",
       "        [ -7.5359,  -8.0203, -12.8665,  -4.2307,  10.8817, -10.4602, -12.8701,\n",
       "           2.6770, -10.6243,  -8.6872],\n",
       "        [ -6.0405,  -6.7432,  -1.4880,   5.0104,   3.7428,   2.7248,   4.8404,\n",
       "           4.7551,  -3.9817, -10.1910],\n",
       "        [ -6.6525,  -3.2249, -10.0873,  -4.3839,  11.1677,  -7.1940, -14.1212,\n",
       "           4.6320, -11.1929, -14.4061],\n",
       "        [ -3.6927,  -8.3362,  -4.5340,   5.4756,  12.3848,  -6.2192,  -3.1521,\n",
       "           5.7376, -14.1036,   1.8349],\n",
       "        [ -6.2573,  -1.9481, -10.6907,  -3.4423,  19.4810,  11.1606, -19.1646,\n",
       "          -6.0210,  -8.9303,  -8.7147],\n",
       "        [ -8.9135,  -6.1530,  -8.9831,  11.9430,   6.5962, -16.9713,  -3.1934,\n",
       "           9.9800,  -1.4168, -24.7213],\n",
       "        [ -5.4854,  -0.8310,  -4.3755,   0.8917,   4.4779,   5.1764,  -6.5866,\n",
       "           2.8451,  -5.1523, -25.5433],\n",
       "        [ -5.7558,   9.4506, -13.1100,  -3.7203,  18.8901,  -3.3419, -11.9034,\n",
       "           3.5167,  -8.5328, -26.1581],\n",
       "        [  4.0778,   4.1501,  -5.5485, -10.7408,  17.2266,  -2.1950, -18.7807,\n",
       "          -6.2688,  -8.6974, -16.8733],\n",
       "        [ -8.5523,   2.3153,  -3.8669,   5.2342,   9.9689,   2.0966, -13.4073,\n",
       "           2.3121, -13.4454,  -5.1295],\n",
       "        [ -4.2501,  -0.3856, -11.9872,   4.3882,   8.9462,   1.3895, -11.0681,\n",
       "           9.5254, -11.5032, -12.8944],\n",
       "        [ -1.5942,  -1.0255,  -3.7960,  16.3938,   1.7621,   3.7901,  -0.9262,\n",
       "           6.6686,  -6.6420,  -9.6501],\n",
       "        [-15.6549,   4.7669,  -1.7143,   1.1302,   8.5478,  -3.7226, -10.8175,\n",
       "           3.5912,  -8.0118,  -2.0193],\n",
       "        [ -5.3291,  -3.0725, -14.8659,   5.8739,  11.8582,  -9.9700,  -1.7321,\n",
       "           0.3065,  -6.5641, -13.0504],\n",
       "        [-11.5436,  -0.2633, -18.1553, -10.7082,  20.4569,  -1.9816, -12.6931,\n",
       "          -8.6863,  -6.8191, -19.7439],\n",
       "        [ -5.3947,  -1.0650,  -1.7329,   2.6901,   8.4469,  -6.8407,   3.0787,\n",
       "          10.1443, -14.6590, -11.6226],\n",
       "        [-15.3834,   0.2272,  -5.1257,  -1.8788,   8.6980,   0.1663,  -6.5667,\n",
       "          -2.5964,  -8.9001,  -8.8160],\n",
       "        [-11.5687,  -9.0584,  -4.0955,  13.1831,  14.4860,   0.4963,  -8.3429,\n",
       "           8.6152, -11.6886, -11.8531],\n",
       "        [  0.6890,   2.5836,   2.9935,   2.8800,   4.6781,   3.5696,  -4.6670,\n",
       "           7.5088, -10.9383, -20.5463],\n",
       "        [ -6.2744,   4.5263,  -5.0262,   0.9384,  -4.1284,  -8.8679, -13.3144,\n",
       "           8.0355,  -0.7342, -17.9729],\n",
       "        [ -9.4962,  -1.8080, -13.3481,  -0.7311,   8.4958,   0.6737, -12.7794,\n",
       "           5.5132,  -1.8075, -15.2600],\n",
       "        [ -2.9732,   1.6254, -10.6411,  -8.5214,  11.5025,   2.7655,  -4.7477,\n",
       "          -3.4309,  -8.8279, -12.3479],\n",
       "        [  1.3953,  -3.3849, -11.8198,   0.5820,  -1.8386, -15.9749,  -8.8143,\n",
       "           7.4430,  -9.7309,  -3.4409],\n",
       "        [ -7.2960,   0.9349,  -9.8083,   0.8892,  10.7966,   7.0324, -15.1595,\n",
       "           2.1099, -11.5425, -13.4659],\n",
       "        [ -8.6498, -12.9588, -13.8124, -12.1711,  14.8305,  -7.2808, -14.7822,\n",
       "          -1.8162,  -9.4139,  -7.3875],\n",
       "        [ -1.1789, -12.1290, -16.1288,   1.8230,   8.1997, -12.0964, -13.8183,\n",
       "          -1.5827,  -5.1216,  -8.5574],\n",
       "        [-11.0261,   2.5211, -15.5310,   5.1585,  15.2313,  -4.9971, -11.3412,\n",
       "          -3.1836,   1.5554, -12.5993],\n",
       "        [ -6.9995,  -3.3059, -15.8784,   9.2546,   9.8230,  -6.2470,  -9.0319,\n",
       "           9.7453,  -3.6110, -10.0074],\n",
       "        [ -7.9689,  -5.5492, -19.3726,  -9.3150,   4.7642, -11.2800, -12.6186,\n",
       "           4.6027,  -8.4105, -20.8830],\n",
       "        [ -4.1085,  -7.1340,  -7.5859,  -0.6553,   9.6558,   3.6792, -15.8804,\n",
       "           2.1621,  -8.5952, -11.4791],\n",
       "        [ -4.4365,   0.4001,  -5.0366,  10.6080,   4.4279,  -1.9414,  -5.5874,\n",
       "          -6.2342,   2.7481, -12.9332],\n",
       "        [ -3.6488,   0.4807, -11.7449,  -1.5413,   7.9832,  -8.0341, -10.3173,\n",
       "          -0.8015,  -1.9757,  -7.8103],\n",
       "        [-13.7365,  -1.7217,  -7.2454,  16.5525,   9.9453,   1.9879,  -8.7772,\n",
       "           0.4737,  -0.5439, -14.0222],\n",
       "        [ -5.8331,  -3.6928, -15.5261,  10.5332,   3.7510,  -6.5565,  -5.2497,\n",
       "          -2.9215,   2.6084, -13.1953],\n",
       "        [ -9.5060,  -8.9696, -15.1145,   0.7023,  17.0158,  -0.8686, -12.2912,\n",
       "          -1.6554,  -3.5486,  -9.9406],\n",
       "        [-14.2300,  -4.1630,  -3.7394,  -1.3379,  12.2066,  -1.0204,  -5.2230,\n",
       "           8.1018,  -1.4944, -15.7132],\n",
       "        [ -1.5861,   5.5191, -10.4491,  -4.5730,  15.9941,   4.9106, -21.1366,\n",
       "          -4.3728,  -6.8088, -14.5848],\n",
       "        [ -1.2545,   7.6772, -15.5946,  -0.7364,  12.8686,  -2.7707, -18.1050,\n",
       "           2.0726,  -7.6627, -18.7843],\n",
       "        [-16.0818,  -5.4104,  -6.3603,  -2.1908,   6.9964,   3.5116, -13.1838,\n",
       "           5.7749,  -4.7736, -11.9404],\n",
       "        [ -6.1343,  -8.9622, -15.9805,   3.2548,  13.6194,  -5.3458,  -4.6863,\n",
       "          -4.1893, -11.6555, -14.2297]])"
      ]
     },
     "execution_count": 21,
     "metadata": {},
     "output_type": "execute_result"
    }
   ],
   "source": [
    "## Your solution\n",
    "def actiavation(x): \n",
    "    return 1.0/(1+torch.exp(-x))\n",
    "\n",
    "inputs = images.view(images.shape[0],784)\n",
    "W1 = torch.randn(784, 256)\n",
    "B1 = torch.randn(256)\n",
    "W2 = torch.randn(256,10)\n",
    "B2 = torch.randn(10)\n",
    "h = actiavation(torch.mm(inputs, W1) + B1)\n",
    "out = torch.mm(h, W2) + B2\n",
    "out"
   ]
  },
  {
   "cell_type": "markdown",
   "metadata": {},
   "source": [
    "Now we have 10 outputs for our network. We want to pass in an image to our network and get out a probability distribution over the classes that tells us the likely class(es) the image belongs to. Something that looks like this:\n",
    "<img src='assets/image_distribution.png' width=500px>\n",
    "\n",
    "Here we see that the probability for each class is roughly the same. This is representing an untrained network, it hasn't seen any data yet so it just returns a uniform distribution with equal probabilities for each class.\n",
    "\n",
    "To calculate this probability distribution, we often use the [**softmax** function](https://en.wikipedia.org/wiki/Softmax_function). Mathematically this looks like\n",
    "\n",
    "$$\n",
    "\\Large \\sigma(x_i) = \\cfrac{e^{x_i}}{\\sum_k^K{e^{x_k}}}\n",
    "$$\n",
    "\n",
    "What this does is squish each input $x_i$ between 0 and 1 and normalizes the values to give you a proper probability distribution where the probabilites sum up to one.\n",
    "\n",
    "> **Exercise:** Implement a function `softmax` that performs the softmax calculation and returns probability distributions for each example in the batch. Note that you'll need to pay attention to the shapes when doing this. If you have a tensor `a` with shape `(64, 10)` and a tensor `b` with shape `(64,)`, doing `a/b` will give you an error because PyTorch will try to do the division across the columns (called broadcasting) but you'll get a size mismatch. The way to think about this is for each of the 64 examples, you only want to divide by one value, the sum in the denominator. So you need `b` to have a shape of `(64, 1)`. This way PyTorch will divide the 10 values in each row of `a` by the one value in each row of `b`. Pay attention to how you take the sum as well. You'll need to define the `dim` keyword in `torch.sum`. Setting `dim=0` takes the sum across the rows while `dim=1` takes the sum across the columns."
   ]
  },
  {
   "cell_type": "code",
   "execution_count": 22,
   "metadata": {},
   "outputs": [
    {
     "name": "stdout",
     "output_type": "stream",
     "text": [
      "torch.Size([64, 10])\n",
      "tensor([1.0000, 1.0000, 1.0000, 1.0000, 1.0000, 1.0000, 1.0000, 1.0000, 1.0000,\n",
      "        1.0000, 1.0000, 1.0000, 1.0000, 1.0000, 1.0000, 1.0000, 1.0000, 1.0000,\n",
      "        1.0000, 1.0000, 1.0000, 1.0000, 1.0000, 1.0000, 1.0000, 1.0000, 1.0000,\n",
      "        1.0000, 1.0000, 1.0000, 1.0000, 1.0000, 1.0000, 1.0000, 1.0000, 1.0000,\n",
      "        1.0000, 1.0000, 1.0000, 1.0000, 1.0000, 1.0000, 1.0000, 1.0000, 1.0000,\n",
      "        1.0000, 1.0000, 1.0000, 1.0000, 1.0000, 1.0000, 1.0000, 1.0000, 1.0000,\n",
      "        1.0000, 1.0000, 1.0000, 1.0000, 1.0000, 1.0000, 1.0000, 1.0000, 1.0000,\n",
      "        1.0000])\n"
     ]
    }
   ],
   "source": [
    "def softmax(x):\n",
    "    ## TODO: Implement the softmax function here\n",
    "    return torch.exp(x)/torch.sum(torch.exp(x),dim=1).view(-1,1)\n",
    "# Here, out should be the output of the network in the previous excercise with shape (64,10)\n",
    "probabilities = softmax(out)\n",
    "\n",
    "# Does it have the right shape? Should be (64, 10)\n",
    "print(probabilities.shape)\n",
    "# Does it sum to 1?\n",
    "print(probabilities.sum(dim=1))"
   ]
  },
  {
   "cell_type": "markdown",
   "metadata": {},
   "source": [
    "## Building networks with PyTorch\n",
    "\n",
    "PyTorch provides a module `nn` that makes building networks much simpler. Here I'll show you how to build the same one as above with 784 inputs, 256 hidden units, 10 output units and a softmax output."
   ]
  },
  {
   "cell_type": "code",
   "execution_count": 23,
   "metadata": {},
   "outputs": [],
   "source": [
    "from torch import nn"
   ]
  },
  {
   "cell_type": "code",
   "execution_count": 24,
   "metadata": {},
   "outputs": [],
   "source": [
    "class Network(nn.Module):\n",
    "    def __init__(self):\n",
    "        super().__init__()\n",
    "        \n",
    "        # Inputs to hidden layer linear transformation\n",
    "        self.hidden = nn.Linear(784, 256)\n",
    "        # Output layer, 10 units - one for each digit\n",
    "        self.output = nn.Linear(256, 10)\n",
    "        \n",
    "        # Define sigmoid activation and softmax output \n",
    "        self.sigmoid = nn.Sigmoid()\n",
    "        self.softmax = nn.Softmax(dim=1)\n",
    "        \n",
    "    def forward(self, x):\n",
    "        # Pass the input tensor through each of our operations\n",
    "        x = self.hidden(x)\n",
    "        x = self.sigmoid(x)\n",
    "        x = self.output(x)\n",
    "        x = self.softmax(x)\n",
    "        \n",
    "        return x"
   ]
  },
  {
   "cell_type": "markdown",
   "metadata": {},
   "source": [
    "Let's go through this bit by bit.\n",
    "\n",
    "```python\n",
    "class Network(nn.Module):\n",
    "```\n",
    "\n",
    "Here we're inheriting from `nn.Module`. Combined with `super().__init__()` this creates a class that tracks the architecture and provides a lot of useful methods and attributes. It is mandatory to inherit from `nn.Module` when you're creating a class for your network. The name of the class itself can be anything.\n",
    "\n",
    "```python\n",
    "self.hidden = nn.Linear(784, 256)\n",
    "```\n",
    "\n",
    "This line creates a module for a linear transformation, $x\\mathbf{W} + b$, with 784 inputs and 256 outputs and assigns it to `self.hidden`. The module automatically creates the weight and bias tensors which we'll use in the `forward` method. You can access the weight and bias tensors once the network (`net`) is created with `net.hidden.weight` and `net.hidden.bias`.\n",
    "\n",
    "```python\n",
    "self.output = nn.Linear(256, 10)\n",
    "```\n",
    "\n",
    "Similarly, this creates another linear transformation with 256 inputs and 10 outputs.\n",
    "\n",
    "```python\n",
    "self.sigmoid = nn.Sigmoid()\n",
    "self.softmax = nn.Softmax(dim=1)\n",
    "```\n",
    "\n",
    "Here I defined operations for the sigmoid activation and softmax output. Setting `dim=1` in `nn.Softmax(dim=1)` calculates softmax across the columns.\n",
    "\n",
    "```python\n",
    "def forward(self, x):\n",
    "```\n",
    "\n",
    "PyTorch networks created with `nn.Module` must have a `forward` method defined. It takes in a tensor `x` and passes it through the operations you defined in the `__init__` method.\n",
    "\n",
    "```python\n",
    "x = self.hidden(x)\n",
    "x = self.sigmoid(x)\n",
    "x = self.output(x)\n",
    "x = self.softmax(x)\n",
    "```\n",
    "\n",
    "Here the input tensor `x` is passed through each operation a reassigned to `x`. We can see that the input tensor goes through the hidden layer, then a sigmoid function, then the output layer, and finally the softmax function. It doesn't matter what you name the variables here, as long as the inputs and outputs of the operations match the network architecture you want to build. The order in which you define things in the `__init__` method doesn't matter, but you'll need to sequence the operations correctly in the `forward` method.\n",
    "\n",
    "Now we can create a `Network` object."
   ]
  },
  {
   "cell_type": "code",
   "execution_count": 25,
   "metadata": {},
   "outputs": [
    {
     "data": {
      "text/plain": [
       "Network(\n",
       "  (hidden): Linear(in_features=784, out_features=256, bias=True)\n",
       "  (output): Linear(in_features=256, out_features=10, bias=True)\n",
       "  (sigmoid): Sigmoid()\n",
       "  (softmax): Softmax()\n",
       ")"
      ]
     },
     "execution_count": 25,
     "metadata": {},
     "output_type": "execute_result"
    }
   ],
   "source": [
    "# Create the network and look at it's text representation\n",
    "model = Network()\n",
    "model"
   ]
  },
  {
   "cell_type": "markdown",
   "metadata": {},
   "source": [
    "You can define the network somewhat more concisely and clearly using the `torch.nn.functional` module. This is the most common way you'll see networks defined as many operations are simple element-wise functions. We normally import this module as `F`, `import torch.nn.functional as F`."
   ]
  },
  {
   "cell_type": "code",
   "execution_count": null,
   "metadata": {
    "collapsed": true
   },
   "outputs": [],
   "source": [
    "import torch.nn.functional as F\n",
    "\n",
    "class Network(nn.Module):\n",
    "    def __init__(self):\n",
    "        super().__init__()\n",
    "        # Inputs to hidden layer linear transformation\n",
    "        self.hidden = nn.Linear(784, 256)\n",
    "        # Output layer, 10 units - one for each digit\n",
    "        self.output = nn.Linear(256, 10)\n",
    "        \n",
    "    def forward(self, x):\n",
    "        # Hidden layer with sigmoid activation\n",
    "        x = F.sigmoid(self.hidden(x))\n",
    "        # Output layer with softmax activation\n",
    "        x = F.softmax(self.output(x), dim=1)\n",
    "        \n",
    "        return x"
   ]
  },
  {
   "cell_type": "markdown",
   "metadata": {},
   "source": [
    "### Activation functions\n",
    "\n",
    "So far we've only been looking at the softmax activation, but in general any function can be used as an activation function. The only requirement is that for a network to approximate a non-linear function, the activation functions must be non-linear. Here are a few more examples of common activation functions: Tanh (hyperbolic tangent), and ReLU (rectified linear unit).\n",
    "\n",
    "<img src=\"assets/activation.png\" width=700px>\n",
    "\n",
    "In practice, the ReLU function is used almost exclusively as the activation function for hidden layers."
   ]
  },
  {
   "cell_type": "markdown",
   "metadata": {},
   "source": [
    "### Your Turn to Build a Network\n",
    "\n",
    "<img src=\"assets/mlp_mnist.png\" width=600px>\n",
    "\n",
    "> **Exercise:** Create a network with 784 input units, a hidden layer with 128 units and a ReLU activation, then a hidden layer with 64 units and a ReLU activation, and finally an output layer with a softmax activation as shown above. You can use a ReLU activation with the `nn.ReLU` module or `F.relu` function."
   ]
  },
  {
   "cell_type": "code",
   "execution_count": 6,
   "metadata": {
    "scrolled": true
   },
   "outputs": [],
   "source": [
    "## Your solution here\n",
    "    # Using nn module\n",
    "from torch import nn\n",
    "\n",
    "class MyNetwork(nn.Module):\n",
    "    def __init__(self):\n",
    "        super().__init__()\n",
    "        self.hidden_1 = nn.Linear(784,128)\n",
    "        self.hidden_2 = nn.Linear(128,64)\n",
    "        self.output = nn.Linear(64,10)\n",
    "        self.relu = nn.ReLU()\n",
    "        self.softmax = nn.Softmax(dim=1)\n",
    "        \n",
    "    def forward(self,x):\n",
    "        x = self.hidden_1(x)\n",
    "        x = self.relu(x)\n",
    "        x = self.hidden_2(x)\n",
    "        x = self.relu(x)\n",
    "        x = self.output(x)\n",
    "        x = self.softmax(x)\n",
    "        return x\n",
    "myn = MyNetwork()\n",
    "\n"
   ]
  },
  {
   "cell_type": "code",
   "execution_count": 14,
   "metadata": {},
   "outputs": [
    {
     "data": {
      "text/plain": [
       "torch.Size([64, 128])"
      ]
     },
     "execution_count": 14,
     "metadata": {},
     "output_type": "execute_result"
    }
   ],
   "source": [
    "# Using functional module\n",
    "import torch.nn.functional as F\n",
    "\n",
    "class MySecondNetwork(nn.Module):\n",
    "    def __init__(self):\n",
    "        super().__init__()\n",
    "        self.hidden_1 = nn.Linear(784,128)\n",
    "        self.hidden_2 = nn.Linear(128,64)\n",
    "        self.output = nn.Linear(64,10)\n",
    "    \n",
    "    def forward(self, x):\n",
    "        x = F.relu(self.hidden_1(x))\n",
    "        x = F.relu(self.hidden_2(x))\n",
    "        x = F.softmax(self.output(x), dim=1)\n",
    "        return x\n",
    "mysn = MySecondNetwork()\n",
    "\n",
    "mysn.hidden_2.weight.shape"
   ]
  },
  {
   "cell_type": "markdown",
   "metadata": {},
   "source": [
    "### Initializing weights and biases\n",
    "\n",
    "The weights and such are automatically initialized for you, but it's possible to customize how they are initialized. The weights and biases are tensors attached to the layer you defined, you can get them with `model.fc1.weight` for instance."
   ]
  },
  {
   "cell_type": "code",
   "execution_count": 8,
   "metadata": {},
   "outputs": [
    {
     "ename": "AttributeError",
     "evalue": "'Network' object has no attribute 'fc1'",
     "output_type": "error",
     "traceback": [
      "\u001b[1;31m---------------------------------------------------------------------------\u001b[0m",
      "\u001b[1;31mAttributeError\u001b[0m                            Traceback (most recent call last)",
      "\u001b[1;32m<ipython-input-8-59b34e7f797b>\u001b[0m in \u001b[0;36m<module>\u001b[1;34m()\u001b[0m\n\u001b[1;32m----> 1\u001b[1;33m \u001b[0mprint\u001b[0m\u001b[1;33m(\u001b[0m\u001b[0mmodel\u001b[0m\u001b[1;33m.\u001b[0m\u001b[0mfc1\u001b[0m\u001b[1;33m.\u001b[0m\u001b[0mweight\u001b[0m\u001b[1;33m)\u001b[0m\u001b[1;33m\u001b[0m\u001b[0m\n\u001b[0m\u001b[0;32m      2\u001b[0m \u001b[0mprint\u001b[0m\u001b[1;33m(\u001b[0m\u001b[0mmodel\u001b[0m\u001b[1;33m.\u001b[0m\u001b[0mfc1\u001b[0m\u001b[1;33m.\u001b[0m\u001b[0mbias\u001b[0m\u001b[1;33m)\u001b[0m\u001b[1;33m\u001b[0m\u001b[0m\n",
      "\u001b[1;32mC:\\ProgramData\\Anaconda3\\lib\\site-packages\\torch\\nn\\modules\\module.py\u001b[0m in \u001b[0;36m__getattr__\u001b[1;34m(self, name)\u001b[0m\n\u001b[0;32m    533\u001b[0m                 \u001b[1;32mreturn\u001b[0m \u001b[0mmodules\u001b[0m\u001b[1;33m[\u001b[0m\u001b[0mname\u001b[0m\u001b[1;33m]\u001b[0m\u001b[1;33m\u001b[0m\u001b[0m\n\u001b[0;32m    534\u001b[0m         raise AttributeError(\"'{}' object has no attribute '{}'\".format(\n\u001b[1;32m--> 535\u001b[1;33m             type(self).__name__, name))\n\u001b[0m\u001b[0;32m    536\u001b[0m \u001b[1;33m\u001b[0m\u001b[0m\n\u001b[0;32m    537\u001b[0m     \u001b[1;32mdef\u001b[0m \u001b[0m__setattr__\u001b[0m\u001b[1;33m(\u001b[0m\u001b[0mself\u001b[0m\u001b[1;33m,\u001b[0m \u001b[0mname\u001b[0m\u001b[1;33m,\u001b[0m \u001b[0mvalue\u001b[0m\u001b[1;33m)\u001b[0m\u001b[1;33m:\u001b[0m\u001b[1;33m\u001b[0m\u001b[0m\n",
      "\u001b[1;31mAttributeError\u001b[0m: 'Network' object has no attribute 'fc1'"
     ]
    }
   ],
   "source": [
    "print(model.fc1.weight)\n",
    "print(model.fc1.bias)"
   ]
  },
  {
   "cell_type": "markdown",
   "metadata": {},
   "source": [
    "For custom initialization, we want to modify these tensors in place. These are actually autograd *Variables*, so we need to get back the actual tensors with `model.fc1.weight.data`. Once we have the tensors, we can fill them with zeros (for biases) or random normal values."
   ]
  },
  {
   "cell_type": "code",
   "execution_count": null,
   "metadata": {
    "collapsed": true
   },
   "outputs": [],
   "source": [
    "# Set biases to all zeros\n",
    "model.fc1.bias.data.fill_(0)"
   ]
  },
  {
   "cell_type": "code",
   "execution_count": null,
   "metadata": {
    "collapsed": true
   },
   "outputs": [],
   "source": [
    "# sample from random normal with standard dev = 0.01\n",
    "model.fc1.weight.data.normal_(std=0.01)"
   ]
  },
  {
   "cell_type": "markdown",
   "metadata": {},
   "source": [
    "### Forward pass\n",
    "\n",
    "Now that we have a network, let's see what happens when we pass in an image."
   ]
  },
  {
   "cell_type": "code",
   "execution_count": 31,
   "metadata": {},
   "outputs": [
    {
     "data": {
      "image/png": "[encoded data removed]",
      "text/plain": [
       "<Figure size 432x648 with 2 Axes>"
      ]
     },
     "metadata": {
      "image/png": {
       "height": 224,
       "width": 423
      },
      "needs_background": "light"
     },
     "output_type": "display_data"
    }
   ],
   "source": [
    "# Grab some data \n",
    "dataiter = iter(trainloader)\n",
    "images, labels = dataiter.next()\n",
    "\n",
    "# Resize images into a 1D vector, new shape is (batch size, color channels, image pixels) \n",
    "images.resize_(64, 1, 784)\n",
    "# or images.resize_(images.shape[0], 1, 784) to automatically get batch size\n",
    "\n",
    "# Forward pass through the network\n",
    "img_idx = 0\n",
    "ps = model.forward(images[img_idx,:])\n",
    "\n",
    "img = images[img_idx]\n",
    "helper.view_classify(img.view(1, 28, 28), ps)"
   ]
  },
  {
   "cell_type": "markdown",
   "metadata": {},
   "source": [
    "As you can see above, our network has basically no idea what this digit is. It's because we haven't trained it yet, all the weights are random!\n",
    "\n",
    "### Using `nn.Sequential`\n",
    "\n",
    "PyTorch provides a convenient way to build networks like this where a tensor is passed sequentially through operations, `nn.Sequential` ([documentation](https://pytorch.org/docs/master/nn.html#torch.nn.Sequential)). Using this to build the equivalent network:"
   ]
  },
  {
   "cell_type": "code",
   "execution_count": 32,
   "metadata": {},
   "outputs": [
    {
     "name": "stdout",
     "output_type": "stream",
     "text": [
      "Sequential(\n",
      "  (0): Linear(in_features=784, out_features=128, bias=True)\n",
      "  (1): ReLU()\n",
      "  (2): Linear(in_features=128, out_features=64, bias=True)\n",
      "  (3): ReLU()\n",
      "  (4): Linear(in_features=64, out_features=10, bias=True)\n",
      "  (5): Softmax()\n",
      ")\n"
     ]
    },
    {
     "data": {
      "image/png": "[encoded data removed]",
      "text/plain": [
       "<Figure size 432x648 with 2 Axes>"
      ]
     },
     "metadata": {
      "image/png": {
       "height": 224,
       "width": 423
      },
      "needs_background": "light"
     },
     "output_type": "display_data"
    }
   ],
   "source": [
    "# Hyperparameters for our network\n",
    "input_size = 784\n",
    "hidden_sizes = [128, 64]\n",
    "output_size = 10\n",
    "\n",
    "# Build a feed-forward network\n",
    "model = nn.Sequential(nn.Linear(input_size, hidden_sizes[0]),\n",
    "                      nn.ReLU(),\n",
    "                      nn.Linear(hidden_sizes[0], hidden_sizes[1]),\n",
    "                      nn.ReLU(),\n",
    "                      nn.Linear(hidden_sizes[1], output_size),\n",
    "                      nn.Softmax(dim=1))\n",
    "print(model)\n",
    "\n",
    "# Forward pass through the network and display output\n",
    "images, labels = next(iter(trainloader))\n",
    "images.resize_(images.shape[0], 1, 784)\n",
    "ps = model.forward(images[0,:])\n",
    "helper.view_classify(images[0].view(1, 28, 28), ps)"
   ]
  },
  {
   "cell_type": "markdown",
   "metadata": {},
   "source": [
    "Here our model is the same as before: 784 input units, a hidden layer with 128 units, ReLU activation, 64 unit hidden layer, another ReLU, then the output layer with 10 units, and the softmax output.\n",
    "\n",
    "The operations are availble by passing in the appropriate index. For example, if you want to get first Linear operation and look at the weights, you'd use `model[0]`."
   ]
  },
  {
   "cell_type": "code",
   "execution_count": 35,
   "metadata": {},
   "outputs": [
    {
     "name": "stdout",
     "output_type": "stream",
     "text": [
      "Linear(in_features=784, out_features=128, bias=True)\n",
      "torch.Size([128, 784])\n"
     ]
    }
   ],
   "source": [
    "print(model[0])\n",
    "print(model[0].weight.shape)"
   ]
  },
  {
   "cell_type": "markdown",
   "metadata": {},
   "source": [
    "You can also pass in an `OrderedDict` to name the individual layers and operations, instead of using incremental integers. Note that dictionary keys must be unique, so _each operation must have a different name_."
   ]
  },
  {
   "cell_type": "code",
   "execution_count": 36,
   "metadata": {},
   "outputs": [
    {
     "data": {
      "text/plain": [
       "Sequential(\n",
       "  (fc1): Linear(in_features=784, out_features=128, bias=True)\n",
       "  (relu1): ReLU()\n",
       "  (fc2): Linear(in_features=128, out_features=64, bias=True)\n",
       "  (relu2): ReLU()\n",
       "  (output): Linear(in_features=64, out_features=10, bias=True)\n",
       "  (softmax): Softmax()\n",
       ")"
      ]
     },
     "execution_count": 36,
     "metadata": {},
     "output_type": "execute_result"
    }
   ],
   "source": [
    "from collections import OrderedDict\n",
    "model = nn.Sequential(OrderedDict([\n",
    "                      ('fc1', nn.Linear(input_size, hidden_sizes[0])),\n",
    "                      ('relu1', nn.ReLU()),\n",
    "                      ('fc2', nn.Linear(hidden_sizes[0], hidden_sizes[1])),\n",
    "                      ('relu2', nn.ReLU()),\n",
    "                      ('output', nn.Linear(hidden_sizes[1], output_size)),\n",
    "                      ('softmax', nn.Softmax(dim=1))]))\n",
    "model"
   ]
  },
  {
   "cell_type": "markdown",
   "metadata": {},
   "source": [
    "Now you can access layers either by integer or the name"
   ]
  },
  {
   "cell_type": "code",
   "execution_count": null,
   "metadata": {
    "collapsed": true
   },
   "outputs": [],
   "source": [
    "print(model[0])\n",
    "print(model.fc1)"
   ]
  },
  {
   "cell_type": "markdown",
   "metadata": {},
   "source": [
    "In the next notebook, we'll see how we can train a neural network to accuractly predict the numbers appearing in the MNIST images."
   ]
  }
 ],
 "metadata": {
  "kernelspec": {
   "display_name": "Python 3",
   "language": "python",
   "name": "python3"
  },
  "language_info": {
   "codemirror_mode": {
    "name": "ipython",
    "version": 3
   },
   "file_extension": ".py",
   "mimetype": "text/x-python",
   "name": "python",
   "nbconvert_exporter": "python",
   "pygments_lexer": "ipython3",
   "version": "3.7.0"
  }
 },
 "nbformat": 4,
 "nbformat_minor": 2
}
